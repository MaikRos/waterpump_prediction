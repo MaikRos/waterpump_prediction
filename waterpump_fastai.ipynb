{
 "cells": [
  {
   "cell_type": "code",
   "execution_count": 1,
   "metadata": {},
   "outputs": [],
   "source": [
    "# Put these at the top of every notebook, to get automatic reloading and inline plotting\n",
    "%reload_ext autoreload\n",
    "%autoreload 2\n",
    "%matplotlib inline"
   ]
  },
  {
   "cell_type": "markdown",
   "metadata": {},
   "source": [
    "1. load the data and previously trained model for images (resnet50 34 sgg)\n",
    "1. Enable data augmentation, and precompute=True\n",
    "1. Use lr_find() to find highest learning rate where loss is still clearly improving\n",
    "1. Train last layer from precomputed activations for 1-2 epochs<br>\n",
    "1. Train last layer with data augmentation (i.e. precompute=False) for 2-3 epochs with cycle_len=1\n",
    "1. Unfreeze all layers\n",
    "1. Set earlier layers to 3x-10x lower learning rate than next higher layer\n",
    "1. Use lr_find() again\n",
    "1. Train full network with cycle_mult=2 until over-fitting"
   ]
  },
  {
   "cell_type": "code",
   "execution_count": 2,
   "metadata": {},
   "outputs": [],
   "source": [
    "#import all the necessary files for structured data\n",
    "from fastai.structured import *\n",
    "from fastai.column_data import *"
   ]
  },
  {
   "cell_type": "code",
   "execution_count": 3,
   "metadata": {},
   "outputs": [],
   "source": [
    "# and standard libs\n",
    "import numpy as np\n",
    "import pandas as pd\n",
    "from IPython.display import HTML"
   ]
  },
  {
   "cell_type": "code",
   "execution_count": 4,
   "metadata": {},
   "outputs": [
    {
     "name": "stdout",
     "output_type": "stream",
     "text": [
      "True True\n"
     ]
    }
   ],
   "source": [
    "# check if we can compute via gpu\n",
    "print(torch.cuda.is_available(), torch.backends.cudnn.enabled)"
   ]
  },
  {
   "cell_type": "code",
   "execution_count": 5,
   "metadata": {},
   "outputs": [],
   "source": [
    "# path to files\n",
    "PATH='./data/waterpump_fastai/'"
   ]
  },
  {
   "cell_type": "code",
   "execution_count": 6,
   "metadata": {},
   "outputs": [],
   "source": [
    "# load training/test data and rempve ids from test set \n",
    "# (only needed for submission)\n",
    "training = pd.read_csv('{}training_for_fastai.csv'.format(PATH))\n",
    "test = pd.read_csv('{}test_for_fastai.csv'.format(PATH))\n",
    "test_wo_id = test.drop('id', axis=1)"
   ]
  },
  {
   "cell_type": "code",
   "execution_count": 7,
   "metadata": {},
   "outputs": [
    {
     "name": "stdout",
     "output_type": "stream",
     "text": [
      "1.0    32259\n",
      "3.0    22824\n",
      "2.0     4317\n",
      "Name: status_group, dtype: int64\n"
     ]
    }
   ],
   "source": [
    "# replace target values with more suitable values for neural net\n",
    "# 1 functional, 2 repair, 3 non functional\n",
    "# print for overview and remove target + id from training data\n",
    "training = training.replace({'status_group': {0:2., -1:3.} })\n",
    "y = training['status_group']\n",
    "print(training.status_group.value_counts())\n",
    "training.drop(['id', 'status_group'], axis=1, inplace=True)"
   ]
  },
  {
   "cell_type": "code",
   "execution_count": 8,
   "metadata": {},
   "outputs": [],
   "source": [
    "# create matrix of semi-random indices for validation set\n",
    "test_size = 0.20\n",
    "np.random.seed(291)\n",
    "val_idx = np.random.randint(low=training.index.min(), \n",
    "                            high=training.index.max(), \n",
    "                            size=int(training.shape[0] * test_size)\n",
    "                           )"
   ]
  },
  {
   "cell_type": "code",
   "execution_count": 9,
   "metadata": {},
   "outputs": [],
   "source": [
    "# create a list of all the categorical and continuous features \n",
    "# (needed for fastai model)\n",
    "cat_vars = ['funder', \n",
    "            'installer', \n",
    "            'region', \n",
    "            'lga', \n",
    "            'construction_year', \n",
    "            'extraction_type_class',\n",
    "            'management_group', \n",
    "            'payment_type', \n",
    "            'water_quality', \n",
    "            'quantity',\n",
    "            'source_class', \n",
    "            'waterpoint_type_group', \n",
    "            'years of operation',\n",
    "            'surrounding_wells', \n",
    "            'funder_is_installer'\n",
    "           ]\n",
    "\n",
    "cont_vars = [x for x in training.columns if x not in cat_vars]"
   ]
  },
  {
   "cell_type": "code",
   "execution_count": 10,
   "metadata": {},
   "outputs": [],
   "source": [
    "# pytorch/fastai only likes float32 and category features as input\n",
    "for item in [training,test]:\n",
    "    for col in cont_vars: item[col] = item[col].astype('float32')\n",
    "    for col in cat_vars: training[col] = training[col].astype('category').cat.as_ordered()"
   ]
  },
  {
   "cell_type": "code",
   "execution_count": 11,
   "metadata": {},
   "outputs": [],
   "source": [
    "# transform data suitable for columnar model ? -> test is not predicted?\n",
    "md = ColumnarModelData.from_data_frame(path=PATH, \n",
    "                                       val_idxs=val_idx,\n",
    "                                       df=training, \n",
    "                                       y=y.astype(np.float32), \n",
    "                                       cat_flds=cat_vars, \n",
    "                                       bs=50,\n",
    "                                       test_df=test\n",
    "                                      )"
   ]
  },
  {
   "cell_type": "code",
   "execution_count": 12,
   "metadata": {},
   "outputs": [
    {
     "data": {
      "text/plain": [
       "[('funder', 1898),\n",
       " ('installer', 1936),\n",
       " ('region', 22),\n",
       " ('lga', 115),\n",
       " ('construction_year', 55),\n",
       " ('extraction_type_class', 8),\n",
       " ('management_group', 6),\n",
       " ('payment_type', 8),\n",
       " ('water_quality', 9),\n",
       " ('quantity', 6),\n",
       " ('source_class', 4),\n",
       " ('waterpoint_type_group', 7),\n",
       " ('years of operation', 55),\n",
       " ('surrounding_wells', 390),\n",
       " ('funder_is_installer', 3)]"
      ]
     },
     "execution_count": 12,
     "metadata": {},
     "output_type": "execute_result"
    }
   ],
   "source": [
    "# check the cardinality of the individual features in preparation\n",
    "# for the embedding matrix\n",
    "cat_sz = [(c, len(training[c].cat.categories)+1) for c in cat_vars]\n",
    "cat_sz"
   ]
  },
  {
   "cell_type": "code",
   "execution_count": 13,
   "metadata": {},
   "outputs": [
    {
     "data": {
      "text/plain": [
       "[(1898, 50),\n",
       " (1936, 50),\n",
       " (22, 11),\n",
       " (115, 50),\n",
       " (55, 28),\n",
       " (8, 4),\n",
       " (6, 3),\n",
       " (8, 4),\n",
       " (9, 5),\n",
       " (6, 3),\n",
       " (4, 2),\n",
       " (7, 4),\n",
       " (55, 28),\n",
       " (390, 50),\n",
       " (3, 2)]"
      ]
     },
     "execution_count": 13,
     "metadata": {},
     "output_type": "execute_result"
    }
   ],
   "source": [
    "# create embedding matrix with cardinality+1 or 50 if higher than 50\n",
    "emb_szs = [(c, min(50, (c+1)//2)) for _,c in cat_sz]\n",
    "emb_szs"
   ]
  },
  {
   "cell_type": "code",
   "execution_count": 20,
   "metadata": {},
   "outputs": [
    {
     "name": "stdout",
     "output_type": "stream",
     "text": [
      "(0, 3.5999999999999996)\n"
     ]
    }
   ],
   "source": [
    "max_log_y = np.max(y)\n",
    "y_range = (0, max_log_y*1.2)\n",
    "print(y_range)"
   ]
  },
  {
   "cell_type": "code",
   "execution_count": 14,
   "metadata": {},
   "outputs": [],
   "source": [
    "# create a model with the embedding matrix, some dropout in the matrix, an output size of 1 \n",
    "# (only 1 category shall be predicted), hidden layer sizes 100,50, and some dropout in these layers\n",
    "# and our possible y values\n",
    "\n",
    "m = md.get_learner(emb_szs=emb_szs, \n",
    "                   n_cont=len(training.columns)-len(cat_vars),\n",
    "                   emb_drop=0.04, \n",
    "                   out_sz=1, \n",
    "                   szs=[100,50], # 100,50\n",
    "                   drops=[0.1,0.01],\n",
    "                   y_range=[1,2,3]\n",
    "                  )"
   ]
  },
  {
   "cell_type": "code",
   "execution_count": 15,
   "metadata": {},
   "outputs": [
    {
     "data": {
      "application/vnd.jupyter.widget-view+json": {
       "model_id": "5eb794e73b5b4a6b8164d19639804777",
       "version_major": 2,
       "version_minor": 0
      },
      "text/html": [
       "<p>Failed to display Jupyter Widget of type <code>HBox</code>.</p>\n",
       "<p>\n",
       "  If you're reading this message in the Jupyter Notebook or JupyterLab Notebook, it may mean\n",
       "  that the widgets JavaScript is still loading. If this message persists, it\n",
       "  likely means that the widgets JavaScript library is either not installed or\n",
       "  not enabled. See the <a href=\"https://ipywidgets.readthedocs.io/en/stable/user_install.html\">Jupyter\n",
       "  Widgets Documentation</a> for setup instructions.\n",
       "</p>\n",
       "<p>\n",
       "  If you're reading this message in another frontend (for example, a static\n",
       "  rendering on GitHub or <a href=\"https://nbviewer.jupyter.org/\">NBViewer</a>),\n",
       "  it may mean that your frontend doesn't currently support widgets.\n",
       "</p>\n"
      ],
      "text/plain": [
       "HBox(children=(IntProgress(value=0, description='Epoch', max=1), HTML(value='')))"
      ]
     },
     "metadata": {},
     "output_type": "display_data"
    },
    {
     "name": "stdout",
     "output_type": "stream",
     "text": [
      "epoch      trn_loss   val_loss                                                                                      \n",
      "    0      0.921737   0.931821  \n",
      "\n"
     ]
    }
   ],
   "source": [
    "# The method learn.lr_find() helps you find an optimal learning rate. \n",
    "# It uses the technique developed in the 2015 paper \n",
    "# Cyclical Learning Rates for Training Neural Networks, \n",
    "# where we simply keep increasing the learning rate from a very small value, \n",
    "# until the loss stops decreasing. \n",
    "# We can plot the learning rate across batches to see what this looks like.\n",
    "# http://arxiv.org/abs/1506.01186\n",
    "m.lr_find()"
   ]
  },
  {
   "cell_type": "code",
   "execution_count": 16,
   "metadata": {},
   "outputs": [
    {
     "data": {
      "image/png": "[encoded data removed]",
      "text/plain": [
       "<matplotlib.figure.Figure at 0x2141748cdd8>"
      ]
     },
     "metadata": {},
     "output_type": "display_data"
    }
   ],
   "source": [
    "# plot the learning rate\n",
    "m.sched.plot()"
   ]
  },
  {
   "cell_type": "code",
   "execution_count": 17,
   "metadata": {},
   "outputs": [
    {
     "data": {
      "application/vnd.jupyter.widget-view+json": {
       "model_id": "bbe339458fbd43e882aae15bb8ed4656",
       "version_major": 2,
       "version_minor": 0
      },
      "text/html": [
       "<p>Failed to display Jupyter Widget of type <code>HBox</code>.</p>\n",
       "<p>\n",
       "  If you're reading this message in the Jupyter Notebook or JupyterLab Notebook, it may mean\n",
       "  that the widgets JavaScript is still loading. If this message persists, it\n",
       "  likely means that the widgets JavaScript library is either not installed or\n",
       "  not enabled. See the <a href=\"https://ipywidgets.readthedocs.io/en/stable/user_install.html\">Jupyter\n",
       "  Widgets Documentation</a> for setup instructions.\n",
       "</p>\n",
       "<p>\n",
       "  If you're reading this message in another frontend (for example, a static\n",
       "  rendering on GitHub or <a href=\"https://nbviewer.jupyter.org/\">NBViewer</a>),\n",
       "  it may mean that your frontend doesn't currently support widgets.\n",
       "</p>\n"
      ],
      "text/plain": [
       "HBox(children=(IntProgress(value=0, description='Epoch', max=3), HTML(value='')))"
      ]
     },
     "metadata": {},
     "output_type": "display_data"
    },
    {
     "name": "stdout",
     "output_type": "stream",
     "text": [
      "epoch      trn_loss   val_loss                                                                                      \n",
      "    0      0.918524   0.92127   \n",
      "    1      0.920398   0.91713                                                                                       \n",
      "    2      0.905852   0.915374                                                                                      \n",
      "\n"
     ]
    },
    {
     "data": {
      "text/plain": [
       "[0.91537434]"
      ]
     },
     "execution_count": 17,
     "metadata": {},
     "output_type": "execute_result"
    }
   ],
   "source": [
    "# according to the plot 0.0002 should be fine so lets use that LR and \n",
    "# fit our model for 3 epochs \n",
    "lr = 2e-4\n",
    "m.fit(lrs=lr, n_cycle=3)"
   ]
  },
  {
   "cell_type": "raw",
   "metadata": {},
   "source": [
    "# fit it some more with stochastic gradient descent with restarts (SGDR)\n",
    "# restart every epoch\n",
    "m.fit(lrs=lr, n_cycle=3, cycle_len=1)"
   ]
  },
  {
   "cell_type": "raw",
   "metadata": {},
   "source": [
    "# for fine tuning we unfreeze the layers and train the individual layers with\n",
    "# a differential learning rate \n",
    "# (the earlier ones are usually already good at what they do -> small LR\n",
    "# -> only the outcome is supossed to change \n",
    "# -> later layers have higher LR\n",
    "# cycle_mult basically adjusts the number of iterations for the descending LR \n",
    "# -> higher when later layers\n",
    "\n",
    "lrs = np.array([lr/9,lr/3,lr])\n",
    "m.unfreeze()\n",
    "m.fit(lrs=lrs, n_cycle=3, cycle_len=1, cycle_mult=2)"
   ]
  },
  {
   "cell_type": "code",
   "execution_count": 18,
   "metadata": {},
   "outputs": [],
   "source": [
    "# we then predict the status_group \n",
    "# (the test data was passed back when the backbone was created)\n",
    "pred_test = m.predict()"
   ]
  },
  {
   "cell_type": "code",
   "execution_count": 19,
   "metadata": {
    "scrolled": true
   },
   "outputs": [
    {
     "name": "stdout",
     "output_type": "stream",
     "text": [
      "# of test data: 14850\n",
      "# of validation data: 11880\n",
      "# predicted by model: 10772\n"
     ]
    }
   ],
   "source": [
    "# and now we check if the right size was produced by the model \n",
    "# -> no?! what is it predicting?\n",
    "print('# of test data: {}'.format(test.shape[0]))\n",
    "print('# of validation data: {}'.format(len(val_idx)))\n",
    "print('# predicted by model: {}'.format(len(pred_test)))"
   ]
  },
  {
   "cell_type": "raw",
   "metadata": {},
   "source": [
    "# we prepare the prediction for submission\n",
    "test['prediction'] = pred_test[1]\n",
    "df_submit = test[['prediction']]\n",
    "df_submit = df_submit.replace({'prediction': {1:'functional', 0:'functional needs repair', -1:'non functional'} })"
   ]
  },
  {
   "cell_type": "code",
   "execution_count": null,
   "metadata": {},
   "outputs": [],
   "source": []
  }
 ],
 "metadata": {
  "kernelspec": {
   "display_name": "Python 3",
   "language": "python",
   "name": "python3"
  },
  "language_info": {
   "codemirror_mode": {
    "name": "ipython",
    "version": 3
   },
   "file_extension": ".py",
   "mimetype": "text/x-python",
   "name": "python",
   "nbconvert_exporter": "python",
   "pygments_lexer": "ipython3",
   "version": "3.6.4"
  }
 },
 "nbformat": 4,
 "nbformat_minor": 2
}
